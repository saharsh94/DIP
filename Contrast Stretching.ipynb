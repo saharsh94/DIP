{
 "cells": [
  {
   "cell_type": "code",
   "execution_count": 1,
   "id": "6c6708f1",
   "metadata": {},
   "outputs": [],
   "source": [
    "import numpy as np\n",
    "from PIL import Image\n",
    "import cv2\n",
    "import matplotlib.pyplot as plt"
   ]
  },
  {
   "cell_type": "code",
   "execution_count": 2,
   "id": "af870685",
   "metadata": {},
   "outputs": [],
   "source": [
    "#3zabete\n",
    "img1 = Image.open('creepy-dark-park-with-two-people-distance.jpg')\n",
    "img1 = img1.convert(\"L\")\n",
    "img1 = img1.resize((256,256))\n",
    "img1 = np.double(img1)\n",
    "\n",
    "\n",
    "g = np.array(img1)\n",
    "g1 = g\n",
    "\n",
    "for i in range(1, 256):\n",
    "     for j in range(1, 256):\n",
    "        if g[i, j]< 96:\n",
    "            g1[i,j] = g[i,j]/3\n",
    "        \n",
    "\n",
    "        if g[i, j] in range(96 , 160):\n",
    "            g1[i,j] = 3*g[i, j]-256\n",
    "        \n",
    "\n",
    "        if g[i, j]>151:\n",
    "            g1[i,j] = g[i, j]/3+ 170\n",
    "\n",
    "\n",
    "np.uint8(g1)\n",
    "myimg = Image.fromarray(g1)\n",
    "Image.fromarray(np.hstack((np.array(img1),np.array(g1)))).show()"
   ]
  },
  {
   "cell_type": "code",
   "execution_count": 3,
   "id": "e2732801",
   "metadata": {},
   "outputs": [],
   "source": [
    "#negative\n",
    "img2 = Image.open('creepy-skull-with-white-eyeballs.jpg')\n",
    "img2 = img2.convert(\"L\")\n",
    "img2 = np.double(img2)\n",
    "\n",
    "n = 255-img2\n",
    "np.uint8(n)\n",
    "n = Image.fromarray(n)\n",
    "Image.fromarray(np.hstack((np.array(img2),np.array(n)))).show()"
   ]
  },
  {
   "cell_type": "code",
   "execution_count": 4,
   "id": "cf5fa6e9",
   "metadata": {},
   "outputs": [],
   "source": [
    "#power-low\n",
    "img3 = Image.open('narrow-muddy-road-dark-forest.jpg')\n",
    "img3 = img3.convert(\"L\")\n",
    "img3 = np.double(img3)\n",
    "\n",
    "p  = 0.09*(img3**2)\n",
    "np.uint8(p)\n",
    "n = Image.fromarray(p)\n",
    "Image.fromarray(np.hstack((np.array(img3),np.array(p)))).show()"
   ]
  },
  {
   "cell_type": "code",
   "execution_count": 5,
   "id": "67917025",
   "metadata": {},
   "outputs": [],
   "source": [
    "#conv\n",
    "img4 = Image.open('wood-texture-background.jpg')\n",
    "img4 = img4.convert(\"L\")\n",
    "img4 = np.double(img4)\n",
    "\n",
    "a = np.array([[-2, 0, 2], [-2, 0, 2], [-2, 0, 2]])\n",
    "conv = cv2.filter2D(img4,-1, a)\n",
    "np.uint8(conv)\n",
    "Image.fromarray(np.hstack((np.array(img4),np.array(conv)))).show()"
   ]
  },
  {
   "cell_type": "code",
   "execution_count": null,
   "id": "cf5cc5e7",
   "metadata": {},
   "outputs": [],
   "source": []
  }
 ],
 "metadata": {
  "kernelspec": {
   "display_name": "Python 3 (ipykernel)",
   "language": "python",
   "name": "python3"
  },
  "language_info": {
   "codemirror_mode": {
    "name": "ipython",
    "version": 3
   },
   "file_extension": ".py",
   "mimetype": "text/x-python",
   "name": "python",
   "nbconvert_exporter": "python",
   "pygments_lexer": "ipython3",
   "version": "3.7.4"
  }
 },
 "nbformat": 4,
 "nbformat_minor": 5
}
