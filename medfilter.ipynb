{
 "cells": [
  {
   "cell_type": "code",
   "execution_count": 24,
   "id": "37f13ed0",
   "metadata": {},
   "outputs": [],
   "source": [
    "import numpy as np\n",
    "import cv2\n",
    "from PIL import Image"
   ]
  },
  {
   "cell_type": "code",
   "execution_count": 25,
   "id": "5b6c08fb",
   "metadata": {},
   "outputs": [],
   "source": [
    "def median_filter(data, filter_size):\n",
    "    temp = []\n",
    "    indexer = filter_size // 2\n",
    "    data_final = []\n",
    "    data_final = np.zeros((len(data),len(data[0])))\n",
    "    for i in range(len(data)):\n",
    "\n",
    "        for j in range(len(data[0])):\n",
    "\n",
    "            for z in range(filter_size):\n",
    "                if i + z - indexer < 0 or i + z - indexer > len(data) - 1:\n",
    "                    for c in range(filter_size):\n",
    "                        temp.append(0)\n",
    "                else:\n",
    "                    if j + z - indexer < 0 or j + indexer > len(data[0]) - 1:\n",
    "                        temp.append(0)\n",
    "                    else:\n",
    "                        for k in range(filter_size):\n",
    "                            temp.append(data[i + z - indexer][j + k - indexer])\n",
    "\n",
    "            temp.sort()\n",
    "            data_final[i][j] = temp[len(temp) // 2]\n",
    "            temp = []\n",
    "    return data_final\n"
   ]
  },
  {
   "cell_type": "code",
   "execution_count": 26,
   "id": "7d05bf0a",
   "metadata": {},
   "outputs": [],
   "source": [
    "img = Image.open('noisy_image.jpeg')\n",
    "img = img.convert(\"L\")\n",
    "arr = np.array(img)\n",
    "removed_noise5 = median_filter(arr, 5) \n",
    "removed_noise3 = median_filter(arr, 3)\n",
    "Image.fromarray(np.hstack((np.array(img),np.array(removed_noise3),np.array(removed_noise5)))).show()"
   ]
  },
  {
   "cell_type": "code",
   "execution_count": 27,
   "id": "3136dce0",
   "metadata": {},
   "outputs": [],
   "source": [
    "img = cv2.imread('noisy_image.jpeg')\n",
    "median3 = cv2.medianBlur(img, 3)\n",
    "median5 = cv2.medianBlur(img, 5)\n",
    "Image.fromarray(np.hstack((np.array(img),np.array(median3),np.array(median5)))).show()"
   ]
  },
  {
   "cell_type": "code",
   "execution_count": 28,
   "id": "3e81a6ac",
   "metadata": {},
   "outputs": [],
   "source": [
    "img4 = Image.open('wood-texture-background.jpg')\n",
    "img4 = img4.convert(\"L\")\n",
    "img4 = np.double(img4)\n",
    "\n",
    "a = 1.15\n",
    "filt = np.array([[-1, -1, -1], [-1, 9*a-1, -1], [-1, -1, -1]])\n",
    "conv = cv2.filter2D(img4,-1, filt)\n",
    "np.uint8(conv)\n",
    "Image.fromarray(np.hstack((np.array(img4),np.array(conv)))).show()"
   ]
  },
  {
   "cell_type": "code",
   "execution_count": null,
   "id": "fa7e3913",
   "metadata": {},
   "outputs": [],
   "source": []
  }
 ],
 "metadata": {
  "kernelspec": {
   "display_name": "Python 3 (ipykernel)",
   "language": "python",
   "name": "python3"
  },
  "language_info": {
   "codemirror_mode": {
    "name": "ipython",
    "version": 3
   },
   "file_extension": ".py",
   "mimetype": "text/x-python",
   "name": "python",
   "nbconvert_exporter": "python",
   "pygments_lexer": "ipython3",
   "version": "3.7.4"
  }
 },
 "nbformat": 4,
 "nbformat_minor": 5
}
